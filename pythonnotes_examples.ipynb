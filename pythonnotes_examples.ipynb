{
 "cells": [
  {
   "cell_type": "code",
   "execution_count": 6,
   "metadata": {},
   "outputs": [
    {
     "name": "stdout",
     "output_type": "stream",
     "text": [
      "123\n",
      "1\n"
     ]
    }
   ],
   "source": [
    "a = [2, 4, 3, 1, 12, 123] \n",
    "print(max(a))\n",
    "print(min(a))"
   ]
  },
  {
   "cell_type": "code",
   "execution_count": 13,
   "metadata": {},
   "outputs": [
    {
     "name": "stdout",
     "output_type": "stream",
     "text": [
      "5\n"
     ]
    }
   ],
   "source": [
    "class Solution(object):\n",
    "    def maxProfit(prices):\n",
    "        \"\"\"\n",
    "        :type prices: List[int]\n",
    "        :rtype: int\n",
    "        \"\"\"\n",
    "        arraylen = len(prices)\n",
    "        profit = 0\n",
    "        for i in range(arraylen-1):\n",
    "            j = i + 1\n",
    "            while j < arraylen:\n",
    "                if(prices[j] - prices[i]) > profit:\n",
    "                    profit = (prices[j] - prices[i])\n",
    "                j = j + 1\n",
    "        return(profit)\n",
    "#sln = Solution()\n",
    "result = Solution.maxProfit([7, 1, 5, 3, 6])\n",
    "print(result)"
   ]
  },
  {
   "cell_type": "code",
   "execution_count": 18,
   "metadata": {},
   "outputs": [
    {
     "ename": "SyntaxError",
     "evalue": "invalid syntax (<ipython-input-18-2aba80130eea>, line 9)",
     "output_type": "error",
     "traceback": [
      "\u001b[0;36m  File \u001b[0;32m\"<ipython-input-18-2aba80130eea>\"\u001b[0;36m, line \u001b[0;32m9\u001b[0m\n\u001b[0;31m    if((min_price == prices[i]) or if(max_price == prices[j])):\u001b[0m\n\u001b[0m                                    ^\u001b[0m\n\u001b[0;31mSyntaxError\u001b[0m\u001b[0;31m:\u001b[0m invalid syntax\n"
     ]
    }
   ],
   "source": [
    "class Solution(object):\n",
    "    def maxProfit(self, prices):\n",
    "        max_price = max(prices)\n",
    "        min_price = min(prices)\n",
    "        arraylen = len(prices)\n",
    "        profit = 0\n",
    "        while i < arraylen-1:\n",
    "            j = i + 1\n",
    "            if((min_price == prices[i]) or if(max_price == prices[j])):\n",
    "                if(min_price == prices[i]):\n",
    "                    i_val = i\n",
    "                if(max_price == prices[j]):\n",
    "                    j_val = j\n",
    "            else\n",
    "                i = i + 1\n",
    "        if (j > i):\n",
    "            if(prices[j] - prices[i]) > profit:\n",
    "                profit = (prices[j] - prices[i])\n",
    "        return(profit)\n",
    "sln = Solution()\n",
    "result = sln.maxProfit([7, 1, 5, 3, 6])\n",
    "print(result)"
   ]
  },
  {
   "cell_type": "code",
   "execution_count": 19,
   "metadata": {},
   "outputs": [
    {
     "ename": "SyntaxError",
     "evalue": "invalid syntax (<ipython-input-19-b1a49df00bff>, line 9)",
     "output_type": "error",
     "traceback": [
      "\u001b[0;36m  File \u001b[0;32m\"<ipython-input-19-b1a49df00bff>\"\u001b[0;36m, line \u001b[0;32m9\u001b[0m\n\u001b[0;31m    if((min_price == prices[i]) or if(max_price == prices[j])):\u001b[0m\n\u001b[0m                                    ^\u001b[0m\n\u001b[0;31mSyntaxError\u001b[0m\u001b[0;31m:\u001b[0m invalid syntax\n"
     ]
    }
   ],
   "source": [
    "class Solution(object):\n",
    "    def maxProfit(self, prices):\n",
    "        max_price = max(prices)\n",
    "        min_price = min(prices)\n",
    "        arraylen = len(prices)\n",
    "        profit = 0\n",
    "        while i < arraylen-1:\n",
    "            j = i + 1\n",
    "            if((min_price == prices[i]) or if(max_price == prices[j])):\n",
    "                if(min_price == prices[i]):\n",
    "                    i_val = i\n",
    "                if(max_price == prices[j]):\n",
    "                    j_val = j\n",
    "            i = i + 1\n",
    "        if (j > i):\n",
    "            if(prices[j] - prices[i]) > profit:\n",
    "                profit = (prices[j] - prices[i])\n",
    "            return(profit)\n",
    "sln = Solution()\n",
    "result = sln.maxProfit([7, 1, 5, 3, 6])\n",
    "print(result)\n"
   ]
  },
  {
   "cell_type": "code",
   "execution_count": 24,
   "metadata": {},
   "outputs": [
    {
     "ename": "SyntaxError",
     "evalue": "invalid syntax (<ipython-input-24-534a599620d2>, line 9)",
     "output_type": "error",
     "traceback": [
      "\u001b[0;36m  File \u001b[0;32m\"<ipython-input-24-534a599620d2>\"\u001b[0;36m, line \u001b[0;32m9\u001b[0m\n\u001b[0;31m    if(min_price == prices[i]) or if(max_price == prices[j]):\u001b[0m\n\u001b[0m                                   ^\u001b[0m\n\u001b[0;31mSyntaxError\u001b[0m\u001b[0;31m:\u001b[0m invalid syntax\n"
     ]
    }
   ],
   "source": [
    "class Solution(object):\n",
    "    def maxProfit(self, prices):\n",
    "        max_price = max(prices)\n",
    "        min_price = min(prices)\n",
    "        arraylen = len(prices)\n",
    "        profit = 0\n",
    "        while i < arraylen-1:\n",
    "            j = i + 1\n",
    "            if(min_price == prices[i]) or if(max_price == prices[j]):\n",
    "                if(min_price == prices[i]):\n",
    "                    i_val = i\n",
    "                if(max_price == prices[j]):\n",
    "                    j_val = j\n",
    "            i = i + 1\n",
    "        if (j > i):\n",
    "            if(prices[j] - prices[i]) > profit:\n",
    "                profit = (prices[j] - prices[i])\n",
    "            return(profit)\n",
    "sln = Solution()\n",
    "result = sln.maxProfit([7, 1, 5, 3, 6])\n",
    "print(result)\n"
   ]
  },
  {
   "cell_type": "code",
   "execution_count": 21,
   "metadata": {},
   "outputs": [
    {
     "ename": "SyntaxError",
     "evalue": "invalid syntax (<ipython-input-21-bbdcca93c13c>, line 1)",
     "output_type": "error",
     "traceback": [
      "\u001b[0;36m  File \u001b[0;32m\"<ipython-input-21-bbdcca93c13c>\"\u001b[0;36m, line \u001b[0;32m1\u001b[0m\n\u001b[0;31m    if((min_price == prices[i]) or if(max_price == prices[j])):\u001b[0m\n\u001b[0m                                    ^\u001b[0m\n\u001b[0;31mSyntaxError\u001b[0m\u001b[0;31m:\u001b[0m invalid syntax\n"
     ]
    }
   ],
   "source": [
    "if((min_price == prices[i]) or if(max_price == prices[j])):"
   ]
  },
  {
   "cell_type": "code",
   "execution_count": 23,
   "metadata": {},
   "outputs": [
    {
     "ename": "SyntaxError",
     "evalue": "invalid syntax (<ipython-input-23-4a99bf240e75>, line 1)",
     "output_type": "error",
     "traceback": [
      "\u001b[0;36m  File \u001b[0;32m\"<ipython-input-23-4a99bf240e75>\"\u001b[0;36m, line \u001b[0;32m1\u001b[0m\n\u001b[0;31m    if((prices[i] == \"min_price\") or if(prices [j] == \"max_price\"):\u001b[0m\n\u001b[0m                                      ^\u001b[0m\n\u001b[0;31mSyntaxError\u001b[0m\u001b[0;31m:\u001b[0m invalid syntax\n"
     ]
    }
   ],
   "source": [
    "if((prices[i] == \"min_price\") or if(prices [j] == \"max_price\")):"
   ]
  },
  {
   "cell_type": "code",
   "execution_count": null,
   "metadata": {},
   "outputs": [],
   "source": [
    "class Solution(object):\n",
    "    def maxProfit(self, prices):\n",
    "        max_price = max(prices)\n",
    "        min_price = min(prices)\n",
    "        arraylen = len(prices)\n",
    "        profit = 0\n",
    "        vally = prices[0]\n",
    "        peak = 0\n",
    "        i = 0\n",
    "        while i < arraylen-1:\n",
    "            if(prices[i] >= vally):\n",
    "                vally = prices[i]\n",
    "                i = i + 1\n",
    "        return(vally)\n",
    "sln = Solution()\n",
    "vally = sln.maxProfit([7, 1, 5, 3, 6])\n",
    "print(vally)"
   ]
  },
  {
   "cell_type": "code",
   "execution_count": null,
   "metadata": {},
   "outputs": [],
   "source": []
  },
  {
   "cell_type": "code",
   "execution_count": null,
   "metadata": {},
   "outputs": [],
   "source": []
  },
  {
   "cell_type": "code",
   "execution_count": null,
   "metadata": {},
   "outputs": [],
   "source": []
  }
 ],
 "metadata": {
  "kernelspec": {
   "display_name": "Python 3",
   "language": "python",
   "name": "python3"
  },
  "language_info": {
   "codemirror_mode": {
    "name": "ipython",
    "version": 3
   },
   "file_extension": ".py",
   "mimetype": "text/x-python",
   "name": "python",
   "nbconvert_exporter": "python",
   "pygments_lexer": "ipython3",
   "version": "3.7.2"
  }
 },
 "nbformat": 4,
 "nbformat_minor": 2
}
